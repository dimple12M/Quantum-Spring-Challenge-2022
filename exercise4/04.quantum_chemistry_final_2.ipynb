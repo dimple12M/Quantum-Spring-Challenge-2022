{
 "cells": [
  {
   "cell_type": "markdown",
   "id": "b9e89d96",
   "metadata": {},
   "source": [
    "# Exercise 4 - Quantum Chemistry. Electronic Structure Calculations \n",
    "\n",
    "\n",
    "## Background\n",
    "\n",
    "Quantum computing holds promise to revolutionize high-performance computing and possesses enormous potential for transforming various fields beyond the current capabilities of classical computing. Chemistry is one of the most promising applications of quantum computing. In particular, simulating the electronic structure of molecules to better understand chemical reactions and design new pharmaceutical drugs and materials, is one of the main near-term exciting applications for quantum computers.\n",
    "\n",
    "The Variational Quantum Eigensolver (VQE) is the main workhorse algorithm for quantum chemistry using near-term quantum computers. It is a hybrid quantum-classical algorithm that is used to find the ground state energy (lowest energy) of a molecular system. The algorithm was first published in 2014 by Alberto Peruzzo and coworkers [1] and used by IBM Quantum to simulate the ground state energy of small molecules in 2017.[2] Obtaining the ground state energies allows us to understand and study chemical reactions and gain additional insignt into various molecular properties, for instance the exact forces on nuclei than can serve to run molecular dynamics simulations to explore what happens in chemical systems with time.[3]\n",
    "\n",
    "VQE algorithm starts with a parameterized quantum circuit called an ansatz and a set of tunable parameters that get iteratively updated with a classical optimizers until the lowest energy is obtained. The VQE's advantage over classical algorithms comes from the fact that a quantum processing unit can represent and store the problem's wavefunction more efficiently than a classical computer. \n",
    "\n",
    "The quantum Equation Of Motion (qEOM) algorithm is an extension of the VQE to find the excitation energies (difference between ground and excited states energies, also called electronic transition energies) of the molecule. [4]\n",
    "\n",
    "In this exercise you will simulate a water molecule using VQE and qEOM to calculate its ground and excited state energies with a variety of tools available in Qiskit Nature.\n",
    "\n",
    "\n",
    "### References\n",
    "\n",
    "1. Peruzzo, Alberto, et al. \"A variational eigenvalue solver on a photonic quantum processor.\" Nature communications 5.1 (2014): 1-7.\n",
    "2. Kandala, Abhinav, et al. \"Hardware-efficient variational quantum eigensolver for small molecules and quantum magnets.\" Nature 549.7671 (2017): 242-246.\n",
    "3. Sokolov, Igor O., et al. \"Microcanonical and finite-temperature ab initio molecular dynamics simulations on quantum computers.\" Physical Review Research 3.1 (2021): 013125.\n",
    "4. Ollitrault, Pauline J., et al. \"Quantum equation of motion for computing molecular excitation energies on a noisy quantum processor.\" Physical Review Research 2.4 (2020): 043140.\n",
    "\n",
    "In addition, a review on VQE: Cerezo, M., et al. \"Variational quantum algorithms.\" Nat Rev Phys 3, 625–644 (2021). \n",
    "\n",
    "## Introduction\n",
    "\n",
    "One of the most important tasks when running a VQE algorithm on a noisy quantum computer is to reduce the computational cost by minimizing the quantum resources (number of qubits, quantum gates and measurements). This in turn, minimizes the computational errors. The goal is to construct the most compact and optimal quantum circuit capable of representing the ground state accurately. \n",
    "\n",
    "<div class=\"alert alert-block alert-success\">\n",
    "\n",
    "<b>Goal</b> \n",
    "\n",
    "We will first learn how to define an electronic structure problem with Qiskit Nature. We will then find the most efficient ansatz for approximating the ground state of a water molecule. Finally, we will use the ground state results to perform excited states calculations. \n",
    "    \n",
    "<b>Plan</b> \n",
    "        \n",
    "**Part 1: VQE for water molecule :** familiarize yourself with VQE and select the best combination of ansatz/classical optimizer by running statevector simulations.\n",
    "\n",
    "**Part 2: qEOM for water molecule :** extend the ground state calculation to find the electronic transition energies of this water molecule. Learn how to compare the quantum algorithm results with those obtained classically.\n",
    "\n",
    "</div>\n",
    "\n",
    "\n",
    "<div class=\"alert alert-block alert-danger\">\n",
    "\n",
    "Below is an introduction to the theory behind VQE simulations. You don't have to understand the whole thing before moving on. Don't be scared!\n",
    "\n",
    "</div>\n",
    "\n"
   ]
  },
  {
   "cell_type": "markdown",
   "id": "c0961d75",
   "metadata": {},
   "source": [
    "## Theory\n",
    "\n",
    "### Quantum and Classical\n",
    "\n",
    "\n",
    "Here is the general workflow representing how the molecular simulations using VQE are performed on quantum computers.\n",
    "\n",
    "<img src=\"resources/workflow.png\" width=600/>\n",
    "\n",
    "The core idea behind a hybrid quantum-classical approach is to divide the task between **CPU (classical processing unit)** and **QPU (quantum processing unit)** based on what they can do best. The CPU takes care of listing the terms that need to be measured to compute the energy and also optimizing the circuit parameters. The QPU implements a quantum circuit representing the quantum state of a system and measures the energy.\n",
    "\n",
    "For example, **CPU** can be used to find a set of functions (also called orbitals) which help re-expressing and simplifying the problem. In practice these orbitals are found through the [Hartree–Fock (HF) method](https://en.wikipedia.org/wiki/Hartree%E2%80%93Fock_method#:~:text=In%20computational%20physics%20and%20chemistry,system%20in%20a%20stationary%20state.). Further information on this method is provided below. \n",
    "\n",
    "After a HF calculation, the Hamiltonian is expressed in the basis of the resulting orbitals. It is then mapped to a qubit Hamiltonian using fermion-to-qubit transformations (see Hamiltonian section below). One can further analyze the properties of the system to reduce the number of qubits or shorten the ansatz circuit:\n",
    "\n",
    "- For Z2 symmetries and two-qubit reduction, see [Bravyi *et al*, 2017](https://arxiv.org/abs/1701.08213v1).\n",
    "- For entanglement forging, see [Eddins *et al.*, 2021](https://arxiv.org/abs/2104.10220v1).\n",
    "- For the adaptive ansatz see, [Grimsley *et al.*,2018](https://arxiv.org/abs/1812.11173v2), [Rattew *et al.*,2019](https://arxiv.org/abs/1910.09694), [Tang *et al.*,2019](https://arxiv.org/abs/1911.10205). You may use the ideas found in those works to find ways to shorten the quantum circuits.\n",
    "\n",
    "**QPU** is employed to implements quantum circuits (see Ansatzes section below), parameterized by angles $\\vec\\theta$. The goal is to find the set of these angles which best approximate the exact ground state wavefunction (or in other words, that minimizes the energy). Expectation values of different operators can then be measured on the trial wavefucntion prepared in the QPU.\n",
    "\n",
    "Below we go slightly more into mathematical details of each component of the VQE and qEOM algorithms. It might be also helpful if you watch our [video episode about VQE](https://www.youtube.com/watch?v=Z-A6G0WVI9w).\n",
    "\n",
    "\n",
    "### Hartree-Fock\n",
    "\n",
    "Hartree-Fock theory is based on the assumption that the many-electron wavefunction of the system can be described by a single Slater determinant made of one-electron molecular orbitals.  \n",
    "\n",
    "Electrons are indistinguishable fermions. This means that any permutation of two electrons must change the sign of the wavefunction (this is a really important constraint called the Pauli exclusion principle, it is the\n",
    "reason for the specific structure of the periodic table).\n",
    "\n",
    "We can always write the electronic wavefunction as the following expansion:\n",
    "\n",
    "\\begin{equation}\n",
    "\\psi_{\\text{elec}}(\\mathbf{r}_1, \\mathbf{r}_2, ...,\\mathbf{r}_n) = \\sum_{m_1, m_2,...,m_N} C_{m_1, m_2, ..., m_N} | \\phi_{m_1}(\\mathbf{r}_1) \\phi_{m_2}(\\mathbf{r}_2) ... \\phi_{m_n}(\\mathbf{r}_n) |\n",
    "\\end{equation}\n",
    "\n",
    "where $C_{m_1, m_2, ..., m_N}$ are complex coefficients, $| \\phi_{m_1}(\\mathbf{r}_1) \\phi_{m_2}(\\mathbf{r}_2) ... \\phi_{m_n}(\\mathbf{r}_n) |$ are Slater determinants and the $\\phi_{m_i}(\\mathbf{r_i})$ are one-electron functions. These one-electron functions are referred to as <b>molecular orbitals (MOs)</b>. MOs are computed with the famous <b>Hartree-Fock (HF)</b> method. Usually they are expanded in terms of <b> atomic orbitals (AOs) </b>:\n",
    "\n",
    "\\begin{equation}\n",
    "\\phi(\\mathbf{r}, s) = \\sum_n D_{mn}\\chi_n(\\mathbf{r})\\otimes s\n",
    "\\end{equation}\n",
    "\n",
    "($s$ is the spin variable $s \\in \\{ \\alpha, \\beta \\}$).\n",
    "The MOs can host two electrons of opposite spin (either spin up ($\\alpha$) or spin down ($\\beta$)) and can either be filled (occupied) or empty (virtual). This spin component of a molecular orbital is also referred to as a spin orbital (SO). When mapping chemistry problems on quantum computers using Jordan-Wigner mapping, one qubit represents one spin orbital.\n",
    "\n",
    "The Hartree-Fock method optimizes the coefficients $D_{mn}$ such that the electronic wavefunction expressed as a <b>single Slater determinant</b> ($\\psi_{\\text{elec}}(\\mathbf{r}_1, \\mathbf{r}_2, ...,\\mathbf{r}_n) = | \\phi_{m_1}(\\mathbf{r}_1) \\phi_{m_2}(\\mathbf{r}_2) ... \\phi_{m_n}(\\mathbf{r}_n) |$) minimizes the energy. It often provides a good starting point for more elaborate theoretical methods which are better approximations to the solution of the electronic Schrödinger equation. The Hartree- Fock method determines the set of MOs which minimize the energy and give us this \"best single determinant.\"\n",
    "\n",
    "The AOs are functions centered on the atoms. They are themselves expanded in terms of the functions composing the <b> basis set </b>. The basis functions used in quantum chemsitry are taken as sums of Gaussians centered on the atoms times a polynomial function, $P_l$, in the electron coordinates relative to that atom:\n",
    "\n",
    "\\begin{equation}\n",
    "\\chi_n(\\mathbf{r}) = \\sum_l N_l^n \\exp\\big( - \\alpha_l^n (|\\mathbf{r} - \\mathbf{R}_I^n|^2)\\big) P_l(\\mathbf{r} - \\mathbf{R}_I^n)\n",
    "\\end{equation}\n",
    "\n",
    "The choice of the $\\alpha_l^n$ and of the order of the polynomial determine the <b> basis set </b> (that take different names. Famous ones are: 6-31G, cc-pVQZ, TZ2P...). \n",
    "\n",
    "The basis set (together with the number of particles) determines the total number of AOs. For the same molecule different basis sets lead to different number of AOs and it turn of MOs. \n",
    "\n",
    "The type of basis functions used also influences the accuracy.\n",
    "The better a single basis function is able to reproduce the unknown function, the fewer basis functions necessary for achieving a given level of accuracy. The smaller the basis, the poorer the representation of the MO. \n",
    "\n",
    "\n",
    "### Molecular Hamiltonian \n",
    "\n",
    "The Hamiltonian of a system is an operator corresponding to the total energy of that system. The molecular Hamiltonian defined as:\n",
    "$$\n",
    "\\hat{H} =\\sum_{r s} h_{r s} \\hat{a}_{r}^{\\dagger} \\hat{a}_{s}\n",
    "+\\frac{1}{2} \\sum_{p q r s} g_{p q r s} \\hat{a}_{p}^{\\dagger} \\hat{a}_{q}^{\\dagger} \\hat{a}_{r} \\hat{a}_{s}+E_{N N}\n",
    "$$\n",
    "where\n",
    "$$\n",
    "h_{p q}=\\int \\phi_{p}^{*}(r)\\left(-\\frac{1}{2} \\nabla^{2}-\\sum_{I} \\frac{Z_{I}}{R_{I}-r}\\right) \\phi_{q}(r)\n",
    "$$\n",
    "$$\n",
    "g_{p q r s}=\\int \\frac{\\phi_{p}^{*}\\left(r_{1}\\right) \\phi_{q}^{*}\\left(r_{2}\\right) \\phi_{r}\\left(r_{2}\\right) \\phi_{s}\\left(r_{1}\\right)}{\\left|r_{1}-r_{2}\\right|} \n",
    "$$\n",
    "\n",
    "The $h_{r s}$  and $g_{p q r s}$ are the one-/two-body integrals (Hamiltonian terms expressed in the orbitals resulting from the HF calculation) and $E_{N N}$ the nuclear repulsion energy. \n",
    "The one-body integrals represent the kinetic energy of the electrons and their interaction with nuclei. \n",
    "The two-body integrals represent the electron-electron interaction.\n",
    "The $\\hat{a}_{r}^{\\dagger} / \\hat{a}_{r}$ operators create / annihilate an electron in spin orbital $r$. They need to be mapped to Pauli operators, so that we can measure their expectation values on a quantum computer.\n",
    "Note that VQE minimizes the electronic energy so you have to retrieve and add the nuclear repulsion energy $E_{NN}$ to compute the total energy. \n",
    "    \n",
    "### Hamiltonian Mapping \n",
    "\n",
    "For every non-zero matrix element in the $ h_{r s}$ and $g_{p q r s}$ tensors, we can construct corresponding Pauli string (tensor product of Pauli operators) with the following fermion-to-qubit transformation. \n",
    "For instance, in Jordan-Wigner mapping for an orbital $r = 3$, we obtain the following Pauli string:\n",
    "$$\n",
    "\\hat a_{3}^{\\dagger}= \\hat \\sigma_z \\otimes \\hat \\sigma_z \\otimes\\left(\\frac{ \\hat \\sigma_x-i \\hat \\sigma_y}{2}\\right) \\otimes 1 \\otimes \\cdots \\otimes 1\n",
    "$$\n",
    "where $\\hat \\sigma_x, \\hat \\sigma_y, \\hat \\sigma_z$ are the well-known Pauli operators. The tensor products of $\\hat \\sigma_z$ operators are placed to enforce the fermionic anti-commutation relations.\n",
    "A representation of the Jordan-Wigner mapping between the 14 spin-orbitals of a water molecule and some 14 qubits is given below:\n",
    "\n",
    "<img src=\"resources/mapping.png\" width=600/>\n",
    "\n",
    "\n",
    "Then, one simply replaces the one-/two-body excitations (e.g. $\\hat{a}_{r}^{\\dagger} \\hat{a}_{s}$, $\\hat{a}_{p}^{\\dagger} \\hat{a}_{q}^{\\dagger} \\hat{a}_{r} \\hat{a}_{s}$) in the Hamiltonian by corresponding Pauli strings (i.e. $\\hat{P}_i$, see picture above). The resulting operator set is ready to be measured on the QPU.\n",
    "For additional details see [Seeley *et al.*, 2012](https://arxiv.org/abs/1208.5986v1).\n",
    "\n",
    "\n",
    "\n",
    "### Active Space Selection\n",
    "\n",
    "\n",
    "For some molecular systems, not all orbitals need to be considered to capture most of the essential chemistry. In fact, we can use our chemical intuition and select a subset of orbitals that play the most important role in determining the energy of our system. This concept is known as an <b>active space</b> selection and it allows us to reduce the size and cost of our quantum chemistry problem. \n",
    "\n",
    "As illustrated in the figure below, instead of simulating all orbitals on a quantum computer (left side) we construct an active space (right side) with some orbitals that are simulated on a quantum computer using VQE (colored in blue), while the rest are approximated using classical methods (colored in yellow).\n",
    "\n",
    "</div>\n",
    "<div style=\"float: right; width: 50%; padding-right=20px;\">\n",
    "    <img src=\"resources/active_space.png\" width=\"300\"/>\n",
    "</div>\n",
    "\n",
    "\n",
    "In general, selecting the best active space is a challenging task. However, the choice of the active space is crucial to obtain reliable wavefunctions and corresponding energies.\n",
    "\n",
    "\n",
    "### Ansätze\n",
    "\n",
    "There are mainly 2 types of ansätze you can use for chemical problems. \n",
    "\n",
    "- **q-UCC ansätze** are physically inspired, and roughly map the electron excitations to quantum circuits. The q-UCCSD ansatz (`UCCSD`in Qiskit) possess all possible single and double electron excitations. The paired double q-pUCCD (`PUCCD`) and singlet q-UCCD0 (`SUCCD`) just consider a subset of such excitations (meaning significantly shorter circuits) and have proved to provide good results for dissociation profiles. For instance, q-pUCCD doesn't have single excitations and the double excitations are paired as in the image below.\n",
    "- **Heuristic ansätze (`TwoLocal`)** were invented to shorten the circuit depth but still be able to represent the ground state. \n",
    "As in the figure below, the R gates represent the parametrized single qubit rotations and $U_{CNOT}$ the entanglers (two-qubit gates). The idea is that after repeating certain $D$-times the same block (with independent parameters) one can reach the ground state. \n",
    "\n",
    "For additional details refer to [Sokolov *et al.* (q-UCC ansatzes)](https://arxiv.org/abs/1911.10864v2) and [Barkoutsos *et al.* (Heuristic ansatzes)](https://arxiv.org/pdf/1805.04340.pdf).\n",
    "\n",
    "<img src=\"resources/ansatz.png\" width=700/>\n",
    "\n",
    "\n",
    "\n",
    "### Putting it all together: Variational Quantum Eigensolver (VQE)\n",
    "\n",
    "Given a Hermitian operator $\\hat H$ with an unknown minimum eigenvalue $E_{min}$, associated with the eigenstate $|\\psi_{min}\\rangle$, VQE provides an estimate $E_{\\theta}$, bounded by $E_{min}$:\n",
    "\n",
    "\\begin{align*}\n",
    "    E_{min} \\le E_{\\theta} \\equiv \\langle \\psi(\\theta) |\\hat H|\\psi(\\theta) \\rangle\n",
    "\\end{align*}  \n",
    "\n",
    "where $|\\psi(\\theta)\\rangle$ is the trial state associated with $E_{\\theta}$. By applying a parameterized circuit, represented by $U(\\theta)$, to some arbitrary starting state $|\\psi\\rangle$, the algorithm obtains an estimate $U(\\theta)|\\psi\\rangle \\equiv |\\psi(\\theta)\\rangle$ on $|\\psi_{min}\\rangle$. The estimate is iteratively optimized by a classical optimizer by changing the parameter $\\theta$ and minimizing the expectation value of $\\langle \\psi(\\theta) |\\hat H|\\psi(\\theta) \\rangle$. \n",
    "\n",
    "Besides finding the ground state energies, VQE can be used in molecular dynamics simulations, see [Sokolov *et al.*, 2021](https://arxiv.org/abs/2008.08144v1), and excited states calculations, see [Ollitrault *et al.*, 2019](https://arxiv.org/abs/1910.12890) to name a few.\n",
    "\n",
    "<div class=\"alert alert-block alert-danger\">\n",
    " \n",
    "<b> References for additional details</b> \n",
    "\n",
    "For the Qiskit Nature tutorials that implement this algorithm see [here](https://qiskit.org/documentation/nature/tutorials/01_electronic_structure.html).\n",
    "For additional information, please refer to Qiskit Github [first page of github repository](https://github.com/Qiskit/qiskit-nature) >>> the [test folder](https://github.com/Qiskit/qiskit-nature/tree/main/test) with the base code for the use of each functionality.\n",
    "    \n",
    "\n",
    "</div>\n",
    "\n",
    "\n",
    "### Quantum equation of motion (qEOM)\n",
    "\n",
    "The excitation energies can be solved using the quantum equation of motion (qEOM) algorithm [Phys. Rev. Research 2, 043140]. The EOM method finds the excitation energies (differences in energy between the ground state and all $n$th excited states) by solving the following pseudo-eigenvalue problem.\n",
    "\n",
    "$$\n",
    "\\begin{pmatrix}\n",
    "    \\text{M} & \\text{Q}\\\\ \n",
    "    \\text{Q*} & \\text{M*}\n",
    "\\end{pmatrix}\n",
    "\\begin{pmatrix}\n",
    "    \\text{X}_n\\\\ \n",
    "    \\text{Y}_n\n",
    "\\end{pmatrix}\n",
    "= E_{0n}\n",
    "\\begin{pmatrix}\n",
    "    \\text{V} & \\text{W}\\\\ \n",
    "    -\\text{W*} & -\\text{V*}\n",
    "\\end{pmatrix}\n",
    "\\begin{pmatrix}\n",
    "    \\text{X}_n\\\\ \n",
    "    \\text{Y}_n\n",
    "\\end{pmatrix}\n",
    "$$\n",
    "\n",
    "with \n",
    "\n",
    "$$\n",
    "M_{\\mu_{\\alpha}\\nu_{\\beta}} = \\langle0| [(\\hat{\\text{E}}_{\\mu_{\\alpha}}^{(\\alpha)})^{\\dagger},\\hat{\\text{H}}, \\hat{\\text{E}}_{\\nu_{\\beta}}^{(\\beta)}]|0\\rangle\n",
    "$$\n",
    "$$\n",
    "Q_{\\mu_{\\alpha}\\nu_{\\beta}} = -\\langle0| [(\\hat{\\text{E}}_{\\mu_{\\alpha}}^{(\\alpha)})^{\\dagger}, \\hat{\\text{H}}, (\\hat{\\text{E}}_{\\nu_{\\beta}}^{(\\beta)})^{\\dagger}]|0\\rangle\n",
    "$$\n",
    "$$\n",
    "V_{\\mu_{\\alpha}\\nu_{\\beta}} = \\langle0| [(\\hat{\\text{E}}_{\\mu_{\\alpha}}^{(\\alpha)})^{\\dagger}, \\hat{\\text{E}}_{\\nu_{\\beta}}^{(\\beta)}]|0\\rangle\n",
    "$$\n",
    "$$\n",
    "W_{\\mu_{\\alpha}\\nu_{\\beta}} = -\\langle0| [(\\hat{\\text{E}}_{\\mu_\\alpha}^{(\\alpha)})^{\\dagger}, (\\hat{\\text{E}}_{\\nu_{\\beta}}^{(\\beta)})^{\\dagger}]|0\\rangle\n",
    "$$\n",
    "\n",
    "Note, each matrix element must be measured on the quantum computer with the corresponding ground state. In order to use the qEOM as a solver in Qiskit, we have to run a ground state calculation first and use our results as an input to the qEOM solver.\n"
   ]
  },
  {
   "cell_type": "markdown",
   "id": "6bf1ba48",
   "metadata": {},
   "source": [
    "## Part 1: VQE for Water Molecule \n",
    "\n",
    "\n",
    "In part 1, you will simulate H$_2$O molecule using the cc-pVDZ basis with the PySCF driver and Jordan-Wigner mapping.\n",
    "\n",
    "#### 1. Chemistry Drivers\n",
    "\n",
    "The interfaces to the classical chemistry codes that are available in Qiskit are called drivers.\n",
    "Qiskit Nature supports a few of them, namely `PSI4Driver`, `PyQuanteDriver` and `PySCFDriver`. \n",
    "\n",
    "The first step is to define a water molecule by specifying its atomic coordinates, total spin (multiplicity) and charge information. The second step is to perform a Hartree-Fock calculation and obtain all the necessary information about our molecule that we will then use to perform VQE. We implement the second step by running the PySCF driver."
   ]
  },
  {
   "cell_type": "code",
   "execution_count": 1,
   "id": "a184f130",
   "metadata": {},
   "outputs": [
    {
     "name": "stderr",
     "output_type": "stream",
     "text": [
      "<frozen importlib._bootstrap>:219: RuntimeWarning: scipy._lib.messagestream.MessageStream size changed, may indicate binary incompatibility. Expected 56 from C header, got 64 from PyObject\n"
     ]
    }
   ],
   "source": [
    "from qiskit_nature.drivers import Molecule\n",
    "from qiskit_nature.drivers.second_quantization import ElectronicStructureMoleculeDriver, ElectronicStructureDriverType\n",
    "\n",
    "molecule = Molecule(\n",
    "    # coordinates are given in Angstrom\n",
    "    geometry=[\n",
    "        [\"O\", [0.0, 0.0, 0.0]],\n",
    "        [\"H\", [0.758602, 0.0, 0.504284]],\n",
    "        [\"H\", [0.758602, 0.0, -0.504284]]\n",
    "    ],\n",
    "    multiplicity=1,  # = 2*spin + 1\n",
    "    charge=0,\n",
    ")\n",
    "\n",
    "driver = ElectronicStructureMoleculeDriver(\n",
    "    molecule=molecule,\n",
    "    basis=\"sto3g\",\n",
    "    driver_type=ElectronicStructureDriverType.PYSCF,\n",
    ")\n",
    "\n",
    "properties = driver.run()"
   ]
  },
  {
   "cell_type": "markdown",
   "id": "93efcca8",
   "metadata": {},
   "source": [
    "<div class=\"alert alert-block alert-danger\">\n",
    "    \n",
    "<b> Tutorial questions 1</b> \n",
    "    \n",
    "Look into the properties of the molecule (see also: https://qiskit.org/documentation/nature/tutorials/08_property_framework.html) and answer the questions below.\n",
    "\n",
    "    \n",
    "1. What is the total number of (alpha and beta) electrons in your system? (Coding)\n",
    "2. What is the number of molecular and spin orbitals? (Coding)\n",
    "3. How many qubits would you need to simulate this molecule with Jordan-Wigner mapping? (Discussion in Slack)\n",
    "4. What is the value of the nuclear repulsion energy? (Coding)\n",
    "\n",
    "</div>"
   ]
  },
  {
   "cell_type": "code",
   "execution_count": 2,
   "id": "720140ac-0ad9-4458-922e-44e05ba189b3",
   "metadata": {},
   "outputs": [
    {
     "data": {
      "text/plain": [
       "<qiskit_nature.properties.second_quantization.electronic.electronic_structure_driver_result.ElectronicStructureDriverResult at 0x7f9d46f653d0>"
      ]
     },
     "execution_count": 2,
     "metadata": {},
     "output_type": "execute_result"
    }
   ],
   "source": [
    "properties"
   ]
  },
  {
   "cell_type": "code",
   "execution_count": 3,
   "id": "b4336fd8-04e4-4247-a02b-1ccc00227f80",
   "metadata": {},
   "outputs": [
    {
     "name": "stdout",
     "output_type": "stream",
     "text": [
      "ElectronicEnergy\n",
      "\t(AO) 1-Body Terms:\n",
      "\t\tAlpha\n",
      "\t\t<(7, 7) matrix with 31 non-zero entries>\n",
      "\t\t[0, 0] = -32.77710430638207\n",
      "\t\t[0, 1] = -7.626104697934357\n",
      "\t\t[0, 2] = -0.028549402578178562\n",
      "\t\t[0, 5] = -1.955766849066068\n",
      "\t\t[0, 6] = -1.955766849066068\n",
      "\t\t... skipping 26 entries\n",
      "\t\tBeta\n",
      "\t\t<(7, 7) matrix with 31 non-zero entries>\n",
      "\t\t[0, 0] = -32.77710430638207\n",
      "\t\t[0, 1] = -7.626104697934357\n",
      "\t\t[0, 2] = -0.028549402578178562\n",
      "\t\t[0, 5] = -1.955766849066068\n",
      "\t\t[0, 6] = -1.955766849066068\n",
      "\t\t... skipping 26 entries\n",
      "\t(AO) 2-Body Terms:\n",
      "\t\tAlpha-Alpha\n",
      "\t\t<(7, 7, 7, 7) matrix with 1245 non-zero entries>\n",
      "\t\t[0, 0, 0, 0] = 4.785065404705503\n",
      "\t\t[0, 0, 0, 1] = 0.7413803519734079\n",
      "\t\t[0, 0, 0, 5] = 0.19193092748136914\n",
      "\t\t[0, 0, 0, 6] = 0.19193092748136914\n",
      "\t\t[0, 0, 1, 0] = 0.741380351973408\n",
      "\t\t... skipping 1240 entries\n",
      "\t\tBeta-Alpha\n",
      "\t\t<(7, 7, 7, 7) matrix with 1245 non-zero entries>\n",
      "\t\t[0, 0, 0, 0] = 4.785065404705503\n",
      "\t\t[0, 0, 0, 1] = 0.7413803519734079\n",
      "\t\t[0, 0, 0, 5] = 0.19193092748136914\n",
      "\t\t[0, 0, 0, 6] = 0.19193092748136914\n",
      "\t\t[0, 0, 1, 0] = 0.741380351973408\n",
      "\t\t... skipping 1240 entries\n",
      "\t\tBeta-Beta\n",
      "\t\t<(7, 7, 7, 7) matrix with 1245 non-zero entries>\n",
      "\t\t[0, 0, 0, 0] = 4.785065404705503\n",
      "\t\t[0, 0, 0, 1] = 0.7413803519734079\n",
      "\t\t[0, 0, 0, 5] = 0.19193092748136914\n",
      "\t\t[0, 0, 0, 6] = 0.19193092748136914\n",
      "\t\t[0, 0, 1, 0] = 0.741380351973408\n",
      "\t\t... skipping 1240 entries\n",
      "\t\tAlpha-Beta\n",
      "\t\t<(7, 7, 7, 7) matrix with 1245 non-zero entries>\n",
      "\t\t[0, 0, 0, 0] = 4.785065404705503\n",
      "\t\t[0, 0, 0, 1] = 0.7413803519734079\n",
      "\t\t[0, 0, 0, 5] = 0.19193092748136914\n",
      "\t\t[0, 0, 0, 6] = 0.19193092748136914\n",
      "\t\t[0, 0, 1, 0] = 0.741380351973408\n",
      "\t\t... skipping 1240 entries\n",
      "\t(MO) 1-Body Terms:\n",
      "\t\tAlpha\n",
      "\t\t<(7, 7) matrix with 21 non-zero entries>\n",
      "\t\t[0, 0] = -32.759575232555214\n",
      "\t\t[0, 1] = 0.5358761109404153\n",
      "\t\t[0, 3] = 0.31183487539814114\n",
      "\t\t[0, 5] = 0.2664381049982306\n",
      "\t\t[1, 0] = 0.5358761109404162\n",
      "\t\t... skipping 16 entries\n",
      "\t\tBeta\n",
      "\t\t<(7, 7) matrix with 21 non-zero entries>\n",
      "\t\t[0, 0] = -32.759575232555214\n",
      "\t\t[0, 1] = 0.5358761109404153\n",
      "\t\t[0, 3] = 0.31183487539814114\n",
      "\t\t[0, 5] = 0.2664381049982306\n",
      "\t\t[1, 0] = 0.5358761109404162\n",
      "\t\t... skipping 16 entries\n",
      "\t(MO) 2-Body Terms:\n",
      "\t\tAlpha-Alpha\n",
      "\t\t<(7, 7, 7, 7) matrix with 777 non-zero entries>\n",
      "\t\t[0, 0, 0, 0] = 4.744602497226487\n",
      "\t\t[0, 0, 0, 1] = -0.40055692071528143\n",
      "\t\t[0, 0, 0, 3] = -0.23779124909809993\n",
      "\t\t[0, 0, 0, 5] = -0.2131188180544521\n",
      "\t\t[0, 0, 1, 0] = -0.4005569207152815\n",
      "\t\t... skipping 772 entries\n",
      "\t\tBeta-Alpha\n",
      "\t\t<(7, 7, 7, 7) matrix with 777 non-zero entries>\n",
      "\t\t[0, 0, 0, 0] = 4.744602497226487\n",
      "\t\t[0, 0, 0, 1] = -0.40055692071528143\n",
      "\t\t[0, 0, 0, 3] = -0.23779124909809993\n",
      "\t\t[0, 0, 0, 5] = -0.2131188180544521\n",
      "\t\t[0, 0, 1, 0] = -0.4005569207152815\n",
      "\t\t... skipping 772 entries\n",
      "\t\tBeta-Beta\n",
      "\t\t<(7, 7, 7, 7) matrix with 777 non-zero entries>\n",
      "\t\t[0, 0, 0, 0] = 4.744602497226487\n",
      "\t\t[0, 0, 0, 1] = -0.40055692071528143\n",
      "\t\t[0, 0, 0, 3] = -0.23779124909809993\n",
      "\t\t[0, 0, 0, 5] = -0.2131188180544521\n",
      "\t\t[0, 0, 1, 0] = -0.4005569207152815\n",
      "\t\t... skipping 772 entries\n",
      "\t\tAlpha-Beta\n",
      "\t\t<(7, 7, 7, 7) matrix with 777 non-zero entries>\n",
      "\t\t[0, 0, 0, 0] = 4.744602497226487\n",
      "\t\t[0, 0, 0, 1] = -0.40055692071528143\n",
      "\t\t[0, 0, 0, 3] = -0.23779124909809993\n",
      "\t\t[0, 0, 0, 5] = -0.2131188180544521\n",
      "\t\t[0, 0, 1, 0] = -0.4005569207152815\n",
      "\t\t... skipping 772 entries\n"
     ]
    }
   ],
   "source": [
    "from qiskit_nature.properties.second_quantization.electronic import ElectronicEnergy\n",
    "\n",
    "electronic_energy = properties.get_property(ElectronicEnergy)\n",
    "print(electronic_energy)"
   ]
  },
  {
   "cell_type": "code",
   "execution_count": 4,
   "id": "48d67770-bf67-4d3b-89af-cb52f731d5bd",
   "metadata": {},
   "outputs": [
    {
     "name": "stdout",
     "output_type": "stream",
     "text": [
      "ParticleNumber:\n",
      "\t14 SOs\n",
      "\t5 alpha electrons\n",
      "\t\torbital occupation: [1. 1. 1. 1. 1. 0. 0.]\n",
      "\t5 beta electrons\n",
      "\t\torbital occupation: [1. 1. 1. 1. 1. 0. 0.]\n"
     ]
    }
   ],
   "source": [
    "print(properties.get_property(\"ParticleNumber\"))"
   ]
  },
  {
   "cell_type": "code",
   "execution_count": 5,
   "id": "eb2e4959-07ca-4bdc-8b38-e0756d654b01",
   "metadata": {},
   "outputs": [
    {
     "name": "stdout",
     "output_type": "stream",
     "text": [
      "ParticleNumber:\n",
      "\t14 SOs\n",
      "\t5 alpha electrons\n",
      "\t\torbital occupation: [1. 1. 1. 1. 1. 0. 0.]\n",
      "\t5 beta electrons\n",
      "\t\torbital occupation: [1. 1. 1. 1. 1. 0. 0.]\n"
     ]
    }
   ],
   "source": [
    "particle_number = properties.get_property(\"ParticleNumber\")\n",
    "print(particle_number)"
   ]
  },
  {
   "cell_type": "code",
   "execution_count": 6,
   "id": "9ec10a50-cd48-4f96-8ac9-1ea6f4324111",
   "metadata": {},
   "outputs": [
    {
     "data": {
      "text/plain": [
       "5"
      ]
     },
     "execution_count": 6,
     "metadata": {},
     "output_type": "execute_result"
    }
   ],
   "source": [
    "particle_number.num_alpha"
   ]
  },
  {
   "cell_type": "code",
   "execution_count": 7,
   "id": "141ef927-4c61-4dbe-99d9-6d7db9b15f4b",
   "metadata": {},
   "outputs": [
    {
     "data": {
      "text/plain": [
       "5"
      ]
     },
     "execution_count": 7,
     "metadata": {},
     "output_type": "execute_result"
    }
   ],
   "source": [
    "particle_number.num_beta"
   ]
  },
  {
   "cell_type": "code",
   "execution_count": 8,
   "id": "2742c560-7ed6-480d-9240-48a837c04673",
   "metadata": {},
   "outputs": [
    {
     "data": {
      "text/plain": [
       "14"
      ]
     },
     "execution_count": 8,
     "metadata": {},
     "output_type": "execute_result"
    }
   ],
   "source": [
    "particle_number.num_spin_orbitals"
   ]
  },
  {
   "cell_type": "code",
   "execution_count": 9,
   "id": "6210fd1a-fc83-45a6-8e80-203d480dac76",
   "metadata": {},
   "outputs": [
    {
     "data": {
      "text/plain": [
       "9.819476509782405"
      ]
     },
     "execution_count": 9,
     "metadata": {},
     "output_type": "execute_result"
    }
   ],
   "source": [
    "electronic_energy.nuclear_repulsion_energy"
   ]
  },
  {
   "cell_type": "code",
   "execution_count": 10,
   "id": "64353d56",
   "metadata": {},
   "outputs": [],
   "source": [
    "# WRITE YOUR CODE BETWEEN THESE LINES - START\n",
    "\n",
    "\n",
    "num_alpha_electrons = particle_number.num_alpha\n",
    "\n",
    "num_beta_electrons = particle_number.num_beta\n",
    "\n",
    "num_spin_orbitals = int(particle_number.num_spin_orbitals)\n",
    "\n",
    "nuclear_rep_energy = electronic_energy.nuclear_repulsion_energy\n",
    "\n",
    "\n",
    "# WRITE YOUR CODE BETWEEN THESE LINES - END"
   ]
  },
  {
   "cell_type": "code",
   "execution_count": 11,
   "id": "cee64ade-5a50-4c9d-bfeb-ef83c0fd8c54",
   "metadata": {},
   "outputs": [
    {
     "name": "stdout",
     "output_type": "stream",
     "text": [
      "Submitting your answer. Please wait...\n",
      "Congratulations 🎉! Your answer is correct and has been submitted.\n"
     ]
    }
   ],
   "source": [
    "from qc_grader.challenges.spring_2022 import grade_ex4a\n",
    "\n",
    "grade_ex4a(\n",
    "    num_alpha_electrons=num_alpha_electrons,\n",
    "    num_beta_electrons=num_beta_electrons,\n",
    "    num_spin_orbitals=num_spin_orbitals,\n",
    "    nuclear_rep_energy=nuclear_rep_energy\n",
    ")"
   ]
  },
  {
   "cell_type": "markdown",
   "id": "814a0c47",
   "metadata": {},
   "source": [
    "#### 2. Electronic Structure Problem and Active Space Transformer\n",
    "\n",
    "\n",
    "The next step is to select our active space which will describe what molecular orbitals will be simulated with VQE and treat the rest with classical methods. The more orbitals we include in our active space, the more computationally expensive our quantum circuit will be. As such, the goal is to construct the most accurate activate space with as few orbitals as possible. In Qiskit Nature, we use  `ActiveSpaceTransformer` to specify how many electrons and molecular orbitals we would like to have in our active space, as well as which of those particular orbitals we would like to consider."
   ]
  },
  {
   "cell_type": "code",
   "execution_count": 12,
   "id": "12a41c9d",
   "metadata": {},
   "outputs": [
    {
     "name": "stdout",
     "output_type": "stream",
     "text": [
      "ParticleNumber:\n",
      "\t14 SOs\n",
      "\t5 alpha electrons\n",
      "\t\torbital occupation: [1. 1. 1. 1. 1. 0. 0.]\n",
      "\t5 beta electrons\n",
      "\t\torbital occupation: [1. 1. 1. 1. 1. 0. 0.]\n"
     ]
    }
   ],
   "source": [
    "from qiskit_nature.transformers.second_quantization.electronic import ActiveSpaceTransformer\n",
    "\n",
    "# Check the occupation of the spin orbitals\n",
    "PN_property = properties.get_property(\"ParticleNumber\")\n",
    "print(PN_property)\n",
    "\n",
    "# Define the active space around the Fermi level \n",
    "# (selected automatically around the HOMO and LUMO, ordered by energy)\n",
    "transformer = ActiveSpaceTransformer(\n",
    "    num_electrons=2, #how many electrons we have in our active space\n",
    "    num_molecular_orbitals=2, #how many orbitals we have in our active space\n",
    ")\n",
    "\n",
    "\n",
    "# We can hand-pick the MOs to be included in the AS\n",
    "# (in case they are not exactly around the Fermi level)\n",
    "\n",
    "# transformer = ActiveSpaceTransformer(\n",
    "#     num_electrons=2, #how many electrons we have in our active space\n",
    "#     num_molecular_orbitals=2, #how many orbitals we have in our active space\n",
    "#     active_orbitals=[4,7], #We are specifically choosing MO number 4 (occupied with two electrons) and 7 (empty)\n",
    "# )"
   ]
  },
  {
   "cell_type": "markdown",
   "id": "904fabad",
   "metadata": {},
   "source": [
    "You can then create an `ElectronicStructureProblem` that produces a list of fermionic operators before mapping them to qubits (Pauli strings)."
   ]
  },
  {
   "cell_type": "code",
   "execution_count": 13,
   "id": "1629ce0d",
   "metadata": {},
   "outputs": [
    {
     "name": "stdout",
     "output_type": "stream",
     "text": [
      "Fermionic Operator\n",
      "register length=4, number terms=14\n",
      "  (0.03853731975537294+0j) * ( +_0 -_1 +_2 -_3 )\n",
      "+ (-0.03853731975537296+0j) * ( +_0 -_1 -_2 +_3 )\n",
      "+ (-0.03853731975537296+0j) * ( -_0 +_1 +_2 -_3 )\n",
      "+ (0.038537319755372966+0j) * ( -_0 +_1 -_2 +_3 ...\n"
     ]
    }
   ],
   "source": [
    "from qiskit_nature.problems.second_quantization.electronic import ElectronicStructureProblem\n",
    "\n",
    "problem = ElectronicStructureProblem(driver, [transformer])\n",
    "\n",
    "second_q_ops = problem.second_q_ops() # this calls driver.run() internally\n",
    "\n",
    "hamiltonian = second_q_ops[0]\n",
    "\n",
    "print(hamiltonian)"
   ]
  },
  {
   "cell_type": "markdown",
   "id": "6b2b03ab",
   "metadata": {},
   "source": [
    "<div class=\"alert alert-block alert-danger\">\n",
    "    \n",
    "<b> Tutorial questions 2</b> \n",
    "    \n",
    "Create the following operator as a FermionicOperator with Qiskit and check if it is Hermitian.\n",
    "    \n",
    "</div>\n",
    "\n",
    "\\begin{align*}\n",
    "O = 0.5i a^{\\dagger}_1 a_0 + 2.0 a^{\\dagger}_2 a_0 \n",
    "\\end{align*}"
   ]
  },
  {
   "cell_type": "code",
   "execution_count": 14,
   "id": "3150e803",
   "metadata": {},
   "outputs": [],
   "source": [
    "from qiskit_nature.operators.second_quantization import FermionicOp\n",
    "\n",
    "# WRITE YOUR CODE BETWEEN THESE LINES - START\n",
    "\n",
    "\n",
    "# list of valid tuples to initialize the FermionicOp\n",
    "list_operator = ([('-_0 +_1', (0.5j)), ('-_0 +_2', (2+0j))])\n",
    "\n",
    "\n",
    "# positive integer that represents the length of registers\n",
    "num_register_length = 3\n",
    "\n",
    "\n",
    "# WRITE YOUR CODE BETWEEN THESE LINES - END"
   ]
  },
  {
   "cell_type": "code",
   "execution_count": 15,
   "id": "4af95853-4cfd-4cdc-919b-16a525a42d7b",
   "metadata": {},
   "outputs": [
    {
     "data": {
      "text/plain": [
       "FermionicOp([('+_0 -_0', 0.5j), ('+_0 -_0', (2+0j))], register_length=1, display_format='sparse')"
      ]
     },
     "execution_count": 15,
     "metadata": {},
     "output_type": "execute_result"
    }
   ],
   "source": [
    "FermionicOp([('N', (0.0+0.5j)), ('N', (2.0+0j))], display_format='sparse')"
   ]
  },
  {
   "cell_type": "code",
   "execution_count": 16,
   "id": "46de0b41-c048-4087-bee6-c8d98327c674",
   "metadata": {},
   "outputs": [
    {
     "data": {
      "text/plain": [
       "[('+_0 -_0', 0.5j), ('+_0 -_0', (2+0j))]"
      ]
     },
     "execution_count": 16,
     "metadata": {},
     "output_type": "execute_result"
    }
   ],
   "source": [
    "FermionicOp([('N', (0.0+0.5j)), ('N', (2.0+0j))], display_format='sparse').to_list()"
   ]
  },
  {
   "cell_type": "code",
   "execution_count": 17,
   "id": "cc474796-fd52-4e14-a067-5ec7f93f470c",
   "metadata": {},
   "outputs": [
    {
     "data": {
      "text/plain": [
       "FermionicOp([('+_0', 0.5j), ('+_0 -_1', (2+0j))], register_length=2, display_format='sparse')"
      ]
     },
     "execution_count": 17,
     "metadata": {},
     "output_type": "execute_result"
    }
   ],
   "source": [
    "FermionicOp([('+', (0.0+0.5j)), ('+-', (2.0+0j))], display_format='sparse')"
   ]
  },
  {
   "cell_type": "code",
   "execution_count": 18,
   "id": "dc9708b9-a712-467d-9f07-dab1fe10c1ea",
   "metadata": {},
   "outputs": [
    {
     "data": {
      "text/plain": [
       "FermionicOp([('+_1 -_0', 0.5j), ('+_2 -_0', (2+0j))], register_length=3, display_format='sparse')"
      ]
     },
     "execution_count": 18,
     "metadata": {},
     "output_type": "execute_result"
    }
   ],
   "source": [
    "FermionicOp([('+_1 -_0', 0.5j), ('+_2 -_0', (2+0j))], display_format='sparse')"
   ]
  },
  {
   "cell_type": "code",
   "execution_count": 19,
   "id": "a9918c09-4c53-486f-aa2c-00aae3f6388f",
   "metadata": {},
   "outputs": [
    {
     "data": {
      "text/plain": [
       "FermionicOp([('-+I', (-0-0.5j)), ('-I+', (-2+0j))], register_length=3, display_format='dense')"
      ]
     },
     "execution_count": 19,
     "metadata": {},
     "output_type": "execute_result"
    }
   ],
   "source": [
    "FermionicOp([('+_1 -_0', 0.5j)])+FermionicOp([('+_2 -_0', (2+0j))])"
   ]
  },
  {
   "cell_type": "code",
   "execution_count": 20,
   "id": "756d48a3-70c3-41d8-9b34-1acad3c6865b",
   "metadata": {},
   "outputs": [
    {
     "data": {
      "text/plain": [
       "FermionicOp([('-_0 +_1', 0.5j), ('-_0 +_2', (2+0j))], register_length=3, display_format='sparse')"
      ]
     },
     "execution_count": 20,
     "metadata": {},
     "output_type": "execute_result"
    }
   ],
   "source": [
    "FermionicOp([('-+I', (0.5j))],display_format='sparse')+FermionicOp([('-I+', (2.0))],display_format='sparse')"
   ]
  },
  {
   "cell_type": "code",
   "execution_count": 21,
   "id": "7f943c9f-4c94-4971-a195-98cf029d1673",
   "metadata": {},
   "outputs": [
    {
     "data": {
      "text/plain": [
       "[('-_0 +_1', 0.5j), ('-_0 +_2', (2+0j))]"
      ]
     },
     "execution_count": 21,
     "metadata": {},
     "output_type": "execute_result"
    }
   ],
   "source": [
    "FermionicOp([('-+I', (0.5j))],display_format='sparse').to_list()+FermionicOp([('-I+', (2.0))],display_format='sparse').to_list()"
   ]
  },
  {
   "cell_type": "code",
   "execution_count": 22,
   "id": "bd61ee5f-2004-48f6-be84-20424ca6d698",
   "metadata": {},
   "outputs": [
    {
     "data": {
      "text/plain": [
       "[('-II+', (-2+0j))]"
      ]
     },
     "execution_count": 22,
     "metadata": {},
     "output_type": "execute_result"
    }
   ],
   "source": [
    "FermionicOp([('+_3 -_0',(2.0))]).to_list()"
   ]
  },
  {
   "cell_type": "code",
   "execution_count": 23,
   "id": "6987d9bf-0d6f-4c73-93b9-0b7dbe73f657",
   "metadata": {},
   "outputs": [
    {
     "name": "stdout",
     "output_type": "stream",
     "text": [
      "Submitting your answer. Please wait...\n",
      "Congratulations 🎉! Your answer is correct and has been submitted.\n"
     ]
    }
   ],
   "source": [
    "from qc_grader.challenges.spring_2022 import grade_ex4b\n",
    "\n",
    "grade_ex4b(list_operator, num_register_length)"
   ]
  },
  {
   "cell_type": "markdown",
   "id": "eaf627a0",
   "metadata": {},
   "source": [
    "#### 3. Fermion-Qubit Mapping \n",
    "\n",
    "Because electrons are fermions, the electronic systems are described by Hamiltonians consisting of fermionic operators expressed in second quantization. Since quantum computers are made up of qubits, we have to transform such fermionic Hamiltonians into the qubit operators. There are different types of mappers to transform fermionic operators to qubits operators. You can try different mapping options, but we will stick to `JordanWignerMapper`, which provides a simple correspondence: one qubit represents one spin orbital."
   ]
  },
  {
   "cell_type": "code",
   "execution_count": 24,
   "id": "73830efb",
   "metadata": {},
   "outputs": [
    {
     "name": "stdout",
     "output_type": "stream",
     "text": [
      "0.009634329938843238 * YYYY\n",
      "+ 0.009634329938843238 * XXYY\n",
      "+ 0.009634329938843238 * YYXX\n",
      "+ 0.009634329938843238 * XXXX\n",
      "- 0.8720633572288663 * IIII\n",
      "- 0.17865261550743583 * ZIII\n",
      "+ 0.11923749314031737 * IZII\n",
      "+ 0.14753433345685818 * ZZII\n",
      "- 0.17865261550743583 * IIZI\n",
      "+ 0.16144783491422307 * ZIZI\n",
      "+ 0.1571686633957014 * IZZI\n",
      "+ 0.11923749314031729 * IIIZ\n",
      "+ 0.1571686633957014 * ZIIZ\n",
      "+ 0.2200397733437612 * IZIZ\n",
      "+ 0.14753433345685818 * IIZZ\n"
     ]
    }
   ],
   "source": [
    "from qiskit_nature.mappers.second_quantization import ParityMapper, BravyiKitaevMapper, JordanWignerMapper\n",
    "from qiskit_nature.converters.second_quantization import QubitConverter\n",
    "\n",
    "# Setup the mapper and qubit converter\n",
    "mapper_type = 'JordanWignerMapper'\n",
    "\n",
    "if mapper_type == 'ParityMapper':\n",
    "    mapper = ParityMapper()\n",
    "elif mapper_type == 'JordanWignerMapper':\n",
    "    mapper = JordanWignerMapper()\n",
    "elif mapper_type == 'BravyiKitaevMapper':\n",
    "    mapper = BravyiKitaevMapper()\n",
    "\n",
    "converter = QubitConverter(mapper)\n",
    "\n",
    "qubit_op = converter.convert(hamiltonian)\n",
    "print(qubit_op)"
   ]
  },
  {
   "cell_type": "markdown",
   "id": "eb3295c1",
   "metadata": {},
   "source": [
    "#### 4. Initial State\n",
    "As we described in the Theory section, a good initial state in chemistry is the HF state (i.e. $|\\Psi_{HF} \\rangle = |0101 \\rangle$). We can initialize it as follows:"
   ]
  },
  {
   "cell_type": "code",
   "execution_count": 25,
   "id": "f9e3af40",
   "metadata": {},
   "outputs": [
    {
     "name": "stdout",
     "output_type": "stream",
     "text": [
      "     ┌───┐\n",
      "q_0: ┤ X ├\n",
      "     └───┘\n",
      "q_1: ─────\n",
      "     ┌───┐\n",
      "q_2: ┤ X ├\n",
      "     └───┘\n",
      "q_3: ─────\n",
      "          \n"
     ]
    }
   ],
   "source": [
    "from qiskit_nature.circuit.library import HartreeFock\n",
    "\n",
    "particle_number = problem.grouped_property_transformed.get_property(\"ParticleNumber\")\n",
    "num_spin_orbitals = particle_number.num_spin_orbitals\n",
    "num_particles = particle_number.num_particles\n",
    "\n",
    "\n",
    "init_state = HartreeFock(num_spin_orbitals, num_particles, converter)\n",
    "print(init_state)"
   ]
  },
  {
   "cell_type": "markdown",
   "id": "103eb34f",
   "metadata": {},
   "source": [
    "#### 5. Ansatz\n",
    "One of the most important choices in the quantum circuit design is ansatz selection which is used to approximate the ground state. Here is the example of a qiskit circuit library that contains many possibilities for choosing different ansatze."
   ]
  },
  {
   "cell_type": "code",
   "execution_count": 92,
   "id": "d4015bc5",
   "metadata": {},
   "outputs": [
    {
     "name": "stdout",
     "output_type": "stream",
     "text": [
      "     ┌───┐»\n",
      "q_0: ┤ X ├»\n",
      "     └───┘»\n",
      "q_1: ─────»\n",
      "     ┌───┐»\n",
      "q_2: ┤ X ├»\n",
      "     └───┘»\n",
      "q_3: ─────»\n",
      "          »\n",
      "«     ┌─────────────────────────────────────────────────────────────────────────────┐\n",
      "«q_0: ┤0                                                                            ├\n",
      "«     │                                                                             │\n",
      "«q_1: ┤1                                                                            ├\n",
      "«     │  exp(-it (YYXY + XXXY + XYYY + YXYY + XYXX + YXXX + YYYX + XXYX))(1.0*t[0]) │\n",
      "«q_2: ┤2                                                                            ├\n",
      "«     │                                                                             │\n",
      "«q_3: ┤3                                                                            ├\n",
      "«     └─────────────────────────────────────────────────────────────────────────────┘\n"
     ]
    }
   ],
   "source": [
    "from qiskit.circuit.library import TwoLocal\n",
    "from qiskit_nature.circuit.library import UCCSD, PUCCD, SUCCD\n",
    "\n",
    "# Choose the ansatz\n",
    "ansatz_type = \"SUCCD\"\n",
    "\n",
    "\n",
    "# Put arguments for twolocal\n",
    "if ansatz_type == \"TwoLocal\":\n",
    "    # Single qubit rotations that are placed on all qubits with independent parameters\n",
    "    rotation_blocks = ['ry', 'rz']\n",
    "    # Entangling gates\n",
    "    entanglement_blocks = 'cz'\n",
    "    # How the qubits are entangled \n",
    "    entanglement = 'full'\n",
    "    # Repetitions of rotation_blocks + entanglement_blocks with independent parameters\n",
    "    repetitions = 1\n",
    "    # Skip the final rotation_blocks layer\n",
    "    skip_final_rotation_layer = True\n",
    "    ansatz = TwoLocal(qubit_op.num_qubits, rotation_blocks, entanglement_blocks, reps=repetitions, \n",
    "                      entanglement=entanglement, skip_final_rotation_layer=skip_final_rotation_layer)\n",
    "    # Add the initial state\n",
    "    ansatz.compose(init_state, front=True, inplace=True)\n",
    "elif ansatz_type == \"UCCSD\":\n",
    "    ansatz = UCCSD(converter,num_particles,num_spin_orbitals,initial_state = init_state)\n",
    "elif ansatz_type == \"PUCCD\":\n",
    "    ansatz = PUCCD(converter,num_particles,num_spin_orbitals,initial_state = init_state)\n",
    "elif ansatz_type == \"SUCCD\":\n",
    "    ansatz = SUCCD(converter,num_particles,num_spin_orbitals,initial_state = init_state)\n",
    "elif ansatz_type == \"Custom\":\n",
    "    # Example of how to write your own circuit\n",
    "    from qiskit.circuit import Parameter, QuantumCircuit, QuantumRegister\n",
    "    # Define the variational parameter\n",
    "    theta = Parameter('a')\n",
    "    n = qubit_op.num_qubits\n",
    "    # Make an empty quantum circuit\n",
    "    qc = QuantumCircuit(qubit_op.num_qubits)\n",
    "    qubit_label = 0\n",
    "    # Place a Hadamard gate\n",
    "    qc.h(qubit_label)\n",
    "    # Place a CNOT ladder\n",
    "    for i in range(n-1):\n",
    "        qc.cx(i, i+1)\n",
    "    # Visual separator\n",
    "    qc.barrier()\n",
    "    # rz rotations on all qubits\n",
    "    qc.rz(theta, range(n))\n",
    "    ansatz = qc\n",
    "    ansatz.compose(init_state, front=True, inplace=True)\n",
    "\n",
    "print(ansatz.decompose())"
   ]
  },
  {
   "cell_type": "markdown",
   "id": "f383eb00",
   "metadata": {},
   "source": [
    "#### 6. Backend\n",
    "\n",
    "To run a quantum circuit, we have to specify a quantum backend which is either a simulator or a real quantum computer. We will focus on the `statevector_simulator` in this challenge."
   ]
  },
  {
   "cell_type": "code",
   "execution_count": 93,
   "id": "10c4e4aa",
   "metadata": {},
   "outputs": [],
   "source": [
    "from qiskit import Aer\n",
    "backend = Aer.get_backend('statevector_simulator')"
   ]
  },
  {
   "cell_type": "markdown",
   "id": "691f2f5a",
   "metadata": {},
   "source": [
    "#### 7. Optimizer\n",
    "\n",
    "The optimizer guides the evolution of the parameters of the ansatz. A good optimizer choice might help to reduce the number of energy evaluations needed. As such, it is very important to investigate the energy convergence as it would define the number of measurements needed to be performed on the QPU."
   ]
  },
  {
   "cell_type": "code",
   "execution_count": 94,
   "id": "41eca79e",
   "metadata": {},
   "outputs": [],
   "source": [
    "from qiskit.algorithms.optimizers import COBYLA, L_BFGS_B, SPSA, SLSQP\n",
    "\n",
    "optimizer_type = 'SLSQP'\n",
    "\n",
    "# You may want to tune the parameters \n",
    "# of each optimizer, here the defaults are used\n",
    "if optimizer_type == 'COBYLA':\n",
    "    optimizer = COBYLA(maxiter=500)\n",
    "elif optimizer_type == 'L_BFGS_B':\n",
    "    optimizer = L_BFGS_B(maxfun=500)\n",
    "elif optimizer_type == 'SPSA':\n",
    "    optimizer = SPSA(maxiter=500)\n",
    "elif optimizer_type == 'SLSQP':\n",
    "    optimizer = SLSQP(maxiter=500)"
   ]
  },
  {
   "cell_type": "markdown",
   "id": "ed285285",
   "metadata": {},
   "source": [
    "#### 8. Exact eigensolver\n",
    "\n",
    "\n",
    "Exact diagonalization is a numerical technique used to determine the eigenstates and energy eigenvalues of a quantum Hamiltonian represented as a matrix. Since the dimensions of this matrix scale exponentially with the number of molecular orbitals we can only use this method for small molecular systems. For very large systems you would run out of memory trying to store their wavefunctions.\n",
    "\n",
    "Since our  molecular problem is small, we can use exact diagonalization and solve the problem exactly. This gives us a great reference to compare with the VQE result."
   ]
  },
  {
   "cell_type": "code",
   "execution_count": 95,
   "id": "c75d1521",
   "metadata": {},
   "outputs": [
    {
     "name": "stdout",
     "output_type": "stream",
     "text": [
      "Exact electronic energy -1.697007028852896\n",
      "=== GROUND STATE ENERGY ===\n",
      " \n",
      "* Electronic ground state energy (Hartree): -84.700895930366\n",
      "  - computed part:      -1.697007028853\n",
      "  - ActiveSpaceTransformer extracted energy part: -83.003888901513\n",
      "~ Nuclear repulsion energy (Hartree): 9.819476509782\n",
      "> Total ground state energy (Hartree): -74.881419420584\n",
      " \n",
      "=== MEASURED OBSERVABLES ===\n",
      " \n",
      "  0:  # Particles: 2.000 S: 0.000 S^2: 0.000 M: 0.000\n",
      " \n",
      "=== DIPOLE MOMENTS ===\n",
      " \n",
      "~ Nuclear dipole moment (a.u.): [2.86710004  0.0  0.0]\n",
      " \n",
      "  0: \n",
      "  * Electronic dipole moment (a.u.): [2.0649676  0.0  0.0]\n",
      "    - computed part:      [0.0022825  0.0  0.0]\n",
      "    - ActiveSpaceTransformer extracted energy part: [2.0626851  0.0  0.0]\n",
      "  > Dipole moment (a.u.): [0.80213244  0.0  0.0]  Total: 0.80213244\n",
      "                 (debye): [2.0388171  0.0  0.0]  Total: 2.0388171\n",
      " \n"
     ]
    }
   ],
   "source": [
    "from qiskit_nature.algorithms.ground_state_solvers.minimum_eigensolver_factories import NumPyMinimumEigensolverFactory\n",
    "from qiskit_nature.algorithms.ground_state_solvers import GroundStateEigensolver\n",
    "import numpy as np \n",
    "\n",
    "def exact_diagonalizer(problem, converter):\n",
    "    solver = NumPyMinimumEigensolverFactory()\n",
    "    calc = GroundStateEigensolver(converter, solver)\n",
    "    result = calc.solve(problem)\n",
    "    return result\n",
    "\n",
    "result_exact = exact_diagonalizer(problem, converter)\n",
    "exact_energy = np.real(result_exact.eigenenergies[0])\n",
    "print(\"Exact electronic energy\", exact_energy)\n",
    "print(result_exact)\n",
    "\n",
    "# The targeted electronic energy for H2 is -1.85336 Ha\n",
    "# Check with your VQE result."
   ]
  },
  {
   "cell_type": "markdown",
   "id": "67217a0c",
   "metadata": {},
   "source": [
    "#### 9. VQE and initial parameters for the ansatz\n",
    "Now we can import the VQE class and run the algorithm."
   ]
  },
  {
   "cell_type": "code",
   "execution_count": 96,
   "id": "53c335b9",
   "metadata": {},
   "outputs": [
    {
     "name": "stdout",
     "output_type": "stream",
     "text": [
      "{   'aux_operator_eigenvalues': None,\n",
      "    'cost_function_evals': 5,\n",
      "    'eigenstate': array([-1.33846558e-17-2.42605959e-17j,  1.58990770e-16-2.19885155e-16j,\n",
      "       -7.63966665e-18-6.61110082e-17j,  5.81748779e-18-1.72451038e-17j,\n",
      "        1.39713920e-17-3.93650185e-17j,  9.99478482e-01-3.24328513e-16j,\n",
      "        9.39216337e-18+5.25523592e-18j,  1.62623186e-16-1.70856733e-16j,\n",
      "        4.41038005e-17+9.60339657e-17j,  1.62588398e-17-4.66745130e-18j,\n",
      "       -3.22918428e-02-4.67050520e-17j, -5.18715608e-17+1.16770670e-16j,\n",
      "        3.30108115e-17+8.73525888e-18j, -1.65108365e-16+1.65259887e-17j,\n",
      "        3.84256934e-18-1.29809089e-17j,  6.70514742e-17+1.72451038e-17j]),\n",
      "    'eigenvalue': (-1.6970070288525296+0j),\n",
      "    'optimal_parameters': {ParameterVectorElement(t[0]): 0.032297457606253785},\n",
      "    'optimal_point': array([0.03229746]),\n",
      "    'optimal_value': -1.6970070288525296,\n",
      "    'optimizer_evals': None,\n",
      "    'optimizer_time': 0.10518479347229004}\n"
     ]
    }
   ],
   "source": [
    "from qiskit.algorithms import VQE\n",
    "from IPython.display import display, clear_output\n",
    "\n",
    "# Print and save the data in lists\n",
    "def callback(eval_count, parameters, mean, std):  \n",
    "    # Overwrites the same line when printing\n",
    "    display(\"Evaluation: {}, Energy: {}, Std: {}\".format(eval_count, mean, std))\n",
    "    clear_output(wait=True)\n",
    "    counts.append(eval_count)\n",
    "    values.append(mean)\n",
    "    params.append(parameters)\n",
    "    deviation.append(std)\n",
    "\n",
    "counts = []\n",
    "values = []\n",
    "params = []\n",
    "deviation = []\n",
    "\n",
    "# Set initial parameters of the ansatz\n",
    "# We choose a fixed small displacement \n",
    "# So all participants start from similar starting point\n",
    "try:\n",
    "    initial_point = [0.01] * len(ansatz.ordered_parameters)\n",
    "except:\n",
    "    initial_point = [0.01] * ansatz.num_parameters\n",
    "\n",
    "algorithm = VQE(ansatz,\n",
    "                optimizer=optimizer,\n",
    "                quantum_instance=backend,\n",
    "                callback=callback,\n",
    "                initial_point=initial_point)\n",
    "\n",
    "result = algorithm.compute_minimum_eigenvalue(qubit_op)\n",
    "\n",
    "print(result)"
   ]
  },
  {
   "cell_type": "markdown",
   "id": "1014e339",
   "metadata": {},
   "source": [
    "The goal is to reach the chemical accuracy which is $\\delta E_{chem} = 0.001$ Ha $= 1$ mHa as efficiently as possible. Efficiency means that we want a low number of: \n",
    "* parameters\n",
    "* optimization steps\n",
    "* number of CNOT gates\n"
   ]
  },
  {
   "cell_type": "code",
   "execution_count": 97,
   "id": "43f41da4",
   "metadata": {},
   "outputs": [
    {
     "data": {
      "text/html": [
       "<div>\n",
       "<style scoped>\n",
       "    .dataframe tbody tr th:only-of-type {\n",
       "        vertical-align: middle;\n",
       "    }\n",
       "\n",
       "    .dataframe tbody tr th {\n",
       "        vertical-align: top;\n",
       "    }\n",
       "\n",
       "    .dataframe thead th {\n",
       "        text-align: right;\n",
       "    }\n",
       "</style>\n",
       "<table border=\"1\" class=\"dataframe\">\n",
       "  <thead>\n",
       "    <tr style=\"text-align: right;\">\n",
       "      <th></th>\n",
       "      <th>optimizer</th>\n",
       "      <th>ansatz</th>\n",
       "      <th>rotation blocks</th>\n",
       "      <th>entanglement_blocks</th>\n",
       "      <th>entanglement</th>\n",
       "      <th>repetitions</th>\n",
       "      <th># of qubits</th>\n",
       "      <th># of parameters</th>\n",
       "      <th># of CNOTs</th>\n",
       "      <th># of evaluations</th>\n",
       "      <th>error (mHa)</th>\n",
       "    </tr>\n",
       "  </thead>\n",
       "  <tbody>\n",
       "    <tr>\n",
       "      <th>0</th>\n",
       "      <td>L_BFGS_B</td>\n",
       "      <td>UCCSD</td>\n",
       "      <td>NaN</td>\n",
       "      <td>NaN</td>\n",
       "      <td>NaN</td>\n",
       "      <td>NaN</td>\n",
       "      <td>4</td>\n",
       "      <td>3</td>\n",
       "      <td>56</td>\n",
       "      <td>28</td>\n",
       "      <td>1.845191e-10</td>\n",
       "    </tr>\n",
       "    <tr>\n",
       "      <th>1</th>\n",
       "      <td>L_BFGS_B</td>\n",
       "      <td>PUCCD</td>\n",
       "      <td>NaN</td>\n",
       "      <td>NaN</td>\n",
       "      <td>NaN</td>\n",
       "      <td>NaN</td>\n",
       "      <td>4</td>\n",
       "      <td>1</td>\n",
       "      <td>48</td>\n",
       "      <td>8</td>\n",
       "      <td>2.726264e-09</td>\n",
       "    </tr>\n",
       "    <tr>\n",
       "      <th>2</th>\n",
       "      <td>L_BFGS_B</td>\n",
       "      <td>SUCCD</td>\n",
       "      <td>NaN</td>\n",
       "      <td>NaN</td>\n",
       "      <td>NaN</td>\n",
       "      <td>NaN</td>\n",
       "      <td>4</td>\n",
       "      <td>1</td>\n",
       "      <td>48</td>\n",
       "      <td>8</td>\n",
       "      <td>2.718714e-09</td>\n",
       "    </tr>\n",
       "    <tr>\n",
       "      <th>3</th>\n",
       "      <td>COBYLA</td>\n",
       "      <td>UCCSD</td>\n",
       "      <td>NaN</td>\n",
       "      <td>NaN</td>\n",
       "      <td>NaN</td>\n",
       "      <td>NaN</td>\n",
       "      <td>4</td>\n",
       "      <td>3</td>\n",
       "      <td>56</td>\n",
       "      <td>44</td>\n",
       "      <td>6.622096e-06</td>\n",
       "    </tr>\n",
       "    <tr>\n",
       "      <th>4</th>\n",
       "      <td>COBYLA</td>\n",
       "      <td>PUCCD</td>\n",
       "      <td>NaN</td>\n",
       "      <td>NaN</td>\n",
       "      <td>NaN</td>\n",
       "      <td>NaN</td>\n",
       "      <td>4</td>\n",
       "      <td>1</td>\n",
       "      <td>48</td>\n",
       "      <td>22</td>\n",
       "      <td>2.207283e-05</td>\n",
       "    </tr>\n",
       "    <tr>\n",
       "      <th>5</th>\n",
       "      <td>COBYLA</td>\n",
       "      <td>SUCCD</td>\n",
       "      <td>NaN</td>\n",
       "      <td>NaN</td>\n",
       "      <td>NaN</td>\n",
       "      <td>NaN</td>\n",
       "      <td>4</td>\n",
       "      <td>1</td>\n",
       "      <td>48</td>\n",
       "      <td>22</td>\n",
       "      <td>2.207284e-05</td>\n",
       "    </tr>\n",
       "    <tr>\n",
       "      <th>6</th>\n",
       "      <td>SPSA</td>\n",
       "      <td>UCCSD</td>\n",
       "      <td>NaN</td>\n",
       "      <td>NaN</td>\n",
       "      <td>NaN</td>\n",
       "      <td>NaN</td>\n",
       "      <td>4</td>\n",
       "      <td>3</td>\n",
       "      <td>56</td>\n",
       "      <td>1000</td>\n",
       "      <td>2.004978e-01</td>\n",
       "    </tr>\n",
       "    <tr>\n",
       "      <th>7</th>\n",
       "      <td>SPSA</td>\n",
       "      <td>PUCCD</td>\n",
       "      <td>NaN</td>\n",
       "      <td>NaN</td>\n",
       "      <td>NaN</td>\n",
       "      <td>NaN</td>\n",
       "      <td>4</td>\n",
       "      <td>1</td>\n",
       "      <td>48</td>\n",
       "      <td>1000</td>\n",
       "      <td>6.217249e-12</td>\n",
       "    </tr>\n",
       "    <tr>\n",
       "      <th>8</th>\n",
       "      <td>SPSA</td>\n",
       "      <td>SUCCD</td>\n",
       "      <td>NaN</td>\n",
       "      <td>NaN</td>\n",
       "      <td>NaN</td>\n",
       "      <td>NaN</td>\n",
       "      <td>4</td>\n",
       "      <td>1</td>\n",
       "      <td>48</td>\n",
       "      <td>1000</td>\n",
       "      <td>0.000000e+00</td>\n",
       "    </tr>\n",
       "    <tr>\n",
       "      <th>9</th>\n",
       "      <td>SLSQP</td>\n",
       "      <td>UCCSD</td>\n",
       "      <td>NaN</td>\n",
       "      <td>NaN</td>\n",
       "      <td>NaN</td>\n",
       "      <td>NaN</td>\n",
       "      <td>4</td>\n",
       "      <td>3</td>\n",
       "      <td>56</td>\n",
       "      <td>13</td>\n",
       "      <td>6.359258e-05</td>\n",
       "    </tr>\n",
       "    <tr>\n",
       "      <th>10</th>\n",
       "      <td>SLSQP</td>\n",
       "      <td>PUCCD</td>\n",
       "      <td>NaN</td>\n",
       "      <td>NaN</td>\n",
       "      <td>NaN</td>\n",
       "      <td>NaN</td>\n",
       "      <td>4</td>\n",
       "      <td>1</td>\n",
       "      <td>48</td>\n",
       "      <td>5</td>\n",
       "      <td>3.685940e-10</td>\n",
       "    </tr>\n",
       "    <tr>\n",
       "      <th>0</th>\n",
       "      <td>SLSQP</td>\n",
       "      <td>SUCCD</td>\n",
       "      <td>None</td>\n",
       "      <td>None</td>\n",
       "      <td>None</td>\n",
       "      <td>None</td>\n",
       "      <td>4</td>\n",
       "      <td>1</td>\n",
       "      <td>48</td>\n",
       "      <td>5</td>\n",
       "      <td>3.663736e-10</td>\n",
       "    </tr>\n",
       "  </tbody>\n",
       "</table>\n",
       "</div>"
      ],
      "text/plain": [
       "   optimizer ansatz rotation blocks entanglement_blocks entanglement  \\\n",
       "0   L_BFGS_B  UCCSD             NaN                 NaN          NaN   \n",
       "1   L_BFGS_B  PUCCD             NaN                 NaN          NaN   \n",
       "2   L_BFGS_B  SUCCD             NaN                 NaN          NaN   \n",
       "3     COBYLA  UCCSD             NaN                 NaN          NaN   \n",
       "4     COBYLA  PUCCD             NaN                 NaN          NaN   \n",
       "5     COBYLA  SUCCD             NaN                 NaN          NaN   \n",
       "6       SPSA  UCCSD             NaN                 NaN          NaN   \n",
       "7       SPSA  PUCCD             NaN                 NaN          NaN   \n",
       "8       SPSA  SUCCD             NaN                 NaN          NaN   \n",
       "9      SLSQP  UCCSD             NaN                 NaN          NaN   \n",
       "10     SLSQP  PUCCD             NaN                 NaN          NaN   \n",
       "0      SLSQP  SUCCD            None                None         None   \n",
       "\n",
       "   repetitions  # of qubits  # of parameters  # of CNOTs  # of evaluations  \\\n",
       "0          NaN            4                3          56                28   \n",
       "1          NaN            4                1          48                 8   \n",
       "2          NaN            4                1          48                 8   \n",
       "3          NaN            4                3          56                44   \n",
       "4          NaN            4                1          48                22   \n",
       "5          NaN            4                1          48                22   \n",
       "6          NaN            4                3          56              1000   \n",
       "7          NaN            4                1          48              1000   \n",
       "8          NaN            4                1          48              1000   \n",
       "9          NaN            4                3          56                13   \n",
       "10         NaN            4                1          48                 5   \n",
       "0         None            4                1          48                 5   \n",
       "\n",
       "     error (mHa)  \n",
       "0   1.845191e-10  \n",
       "1   2.726264e-09  \n",
       "2   2.718714e-09  \n",
       "3   6.622096e-06  \n",
       "4   2.207283e-05  \n",
       "5   2.207284e-05  \n",
       "6   2.004978e-01  \n",
       "7   6.217249e-12  \n",
       "8   0.000000e+00  \n",
       "9   6.359258e-05  \n",
       "10  3.685940e-10  \n",
       "0   3.663736e-10  "
      ]
     },
     "execution_count": 97,
     "metadata": {},
     "output_type": "execute_result"
    },
    {
     "data": {
      "image/png": "[encoded data removed]",
      "text/plain": [
       "<Figure size 432x288 with 1 Axes>"
      ]
     },
     "metadata": {
      "needs_background": "light"
     },
     "output_type": "display_data"
    }
   ],
   "source": [
    "# Store results in a dictionary\n",
    "from qiskit.transpiler import PassManager\n",
    "from qiskit.transpiler.passes import Unroller\n",
    "\n",
    "# Unroller transpile your circuit into CNOTs and U gates\n",
    "pass_ = Unroller(['u', 'cx'])\n",
    "pm = PassManager(pass_)\n",
    "ansatz_tp = pm.run(ansatz)\n",
    "cnots = ansatz_tp.count_ops()['cx']\n",
    "\n",
    "energy = result.optimal_value\n",
    "\n",
    "if ansatz_type == \"TwoLocal\":\n",
    "    result_dict = {\n",
    "        'optimizer': optimizer.__class__.__name__,\n",
    "        'mapping': converter.mapper.__class__.__name__,\n",
    "        'ansatz': ansatz.__class__.__name__,\n",
    "        'rotation blocks': rotation_blocks,\n",
    "        'entanglement_blocks': entanglement_blocks,\n",
    "        'entanglement': entanglement,\n",
    "        'repetitions': repetitions,\n",
    "        'skip_final_rotation_layer': skip_final_rotation_layer,\n",
    "        'energy (Ha)': energy,\n",
    "        'error (mHa)': (energy-exact_energy)*1000,\n",
    "        '# of parameters': len(result.optimal_point),\n",
    "        'final parameters': result.optimal_point,\n",
    "        '# of evaluations': result.cost_function_evals,\n",
    "        '# of qubits': int(qubit_op.num_qubits),\n",
    "        '# of CNOTs': cnots}\n",
    "else:\n",
    "    result_dict = {\n",
    "        'optimizer': optimizer.__class__.__name__,\n",
    "        'mapping': converter.mapper.__class__.__name__,\n",
    "        'ansatz': ansatz.__class__.__name__,\n",
    "        'rotation blocks': None,\n",
    "        'entanglement_blocks': None,\n",
    "        'entanglement': None,\n",
    "        'repetitions': None,\n",
    "        'skip_final_rotation_layer': None,\n",
    "        'energy (Ha)': energy,\n",
    "        'error (mHa)': (energy-exact_energy)*1000,\n",
    "        '# of parameters': len(result.optimal_point),\n",
    "        'final parameters': result.optimal_point,\n",
    "        '# of evaluations': result.cost_function_evals,\n",
    "        '# of qubits': int(qubit_op.num_qubits),\n",
    "        '# of CNOTs': cnots}\n",
    "\n",
    "# Plot the results\n",
    "import matplotlib.pyplot as plt\n",
    "\n",
    "fig, ax = plt.subplots(1, 1)\n",
    "ax.set_xlabel('Iterations')\n",
    "ax.set_ylabel('Energy')\n",
    "ax.grid()\n",
    "fig.text(0.7, 0.75, f'Energy: {result.optimal_value:.3f}')\n",
    "plt.title(f\"{result_dict['optimizer']}-{result_dict['mapping']}\\n{result_dict['ansatz']}\")\n",
    "ax.plot(counts, values)\n",
    "ax.axhline(exact_energy, linestyle='--')\n",
    "fig_title = f\"\\\n",
    "{result_dict['optimizer']}-\\\n",
    "{result_dict['mapping']}-\\\n",
    "{result_dict['ansatz']}-\\\n",
    "Energy({result_dict['energy (Ha)']:.3f}).png\"\n",
    "fig.savefig(fig_title, dpi=300)\n",
    "\n",
    "# Display and save the data\n",
    "import pandas as pd\n",
    "import os.path\n",
    "filename = 'results_h2o.csv'\n",
    "if os.path.isfile(filename):\n",
    "    result_df = pd.read_csv(filename)\n",
    "    result_df = result_df.append([result_dict])\n",
    "else:\n",
    "    result_df = pd.DataFrame.from_dict([result_dict])\n",
    "result_df.to_csv(filename)\n",
    "result_df[['optimizer','ansatz', 'rotation blocks', 'entanglement_blocks',\n",
    "    'entanglement', 'repetitions', '# of qubits', '# of parameters', '# of CNOTs', '# of evaluations', 'error (mHa)']]"
   ]
  },
  {
   "cell_type": "markdown",
   "id": "67d1222a",
   "metadata": {},
   "source": [
    "<div class=\"alert alert-block alert-danger\">\n",
    "    \n",
    "<b>Tutorial questions 3</b> \n",
    "\n",
    "Experiment with all the parameters and answer the following:\n",
    "\n",
    "1. Can you find an efficient heuristic ansatz? \n",
    "2. Which of the `UCCSD, PUCCD or SUCCD` ansatz is best? \n",
    "3. Which optimizer perform best with `UCCSD`? \n",
    "\n",
    "Remember, to find the most efficient ansatz you have to consider the accuracy, number of parameters and number of optimization steps, number of CNOTs. This is a discussion question and will not be graded. Feel free to discuss your answers in the Slack channel. \n",
    "</div>"
   ]
  },
  {
   "cell_type": "markdown",
   "id": "a2c61cd9-1140-4563-aa41-0ae07ba1fb00",
   "metadata": {},
   "source": [
    "# NOTE  :MAY be combination of SUCCD ansatz and SLSQP optimizer is the most efficient. \n",
    "\n",
    "parameters=1\n",
    "CNOTS= 48\n",
    "evaluations=5\n",
    "error=3.756995e-10\n",
    "\n"
   ]
  },
  {
   "cell_type": "markdown",
   "id": "e0e1ad7c",
   "metadata": {},
   "source": [
    "## Part 2: qEOM for water molecule \n",
    "\n",
    "\n",
    "In this part, you will compute the excited states of the previously defined water molecule\n",
    "\n",
    "To use the qEOM as a solver in Qiskit, we have to define a ground state calculation first. With this the qEOM solver can be initialized:"
   ]
  },
  {
   "cell_type": "code",
   "execution_count": null,
   "id": "46886db2",
   "metadata": {},
   "outputs": [],
   "source": [
    "from qiskit import Aer\n",
    "from qiskit.utils import QuantumInstance\n",
    "from qiskit_nature.algorithms import GroundStateEigensolver, QEOM, VQEUCCFactory\n",
    "\n",
    "# This first part sets the ground state solver\n",
    "# see more about this part in the ground state calculation tutorial\n",
    "quantum_instance = QuantumInstance(Aer.get_backend(\"aer_simulator_statevector\"))\n",
    "solver = VQEUCCFactory(quantum_instance)\n",
    "gsc = GroundStateEigensolver(converter, solver)\n",
    "\n",
    "# The qEOM algorithm is simply instantiated with the chosen ground state solver\n",
    "qeom_excited_states_calculation = QEOM(gsc, \"sd\")\n",
    "\n",
    "qeom_results = qeom_excited_states_calculation.solve(problem)\n",
    "\n",
    "print(qeom_results)"
   ]
  },
  {
   "cell_type": "markdown",
   "id": "137ac260",
   "metadata": {},
   "source": [
    "<div class=\"alert alert-block alert-danger\">\n",
    "    \n",
    "<b>Tutorial questions 4</b> \n",
    "\n",
    "Obtain the exact excited states energies and compare with the ones obtained from qEOM. (Coding)\n",
    "\n",
    "Post your thoughts on the observed differences in the Slack channel.\n",
    "    \n",
    "</div>"
   ]
  },
  {
   "cell_type": "code",
   "execution_count": null,
   "id": "149a9757",
   "metadata": {},
   "outputs": [],
   "source": [
    "# WRITE YOUR CODE BETWEEN THESE LINES - START\n",
    "\n",
    "\n",
    "\n",
    "# WRITE YOUR CODE BETWEEN THESE LINES - END"
   ]
  },
  {
   "cell_type": "markdown",
   "id": "f9cf1807",
   "metadata": {},
   "source": [
    "## Additional information\n",
    "\n",
    "**Created by:** Ieva Liepuoniute and Pauline Ollitrault\n",
    "\n",
    "**Version:** qiskit-nature 0.3.2"
   ]
  },
  {
   "cell_type": "markdown",
   "id": "72792716",
   "metadata": {},
   "source": []
  }
 ],
 "metadata": {
  "kernelspec": {
   "display_name": "Qiskit v0.35.0 (ipykernel)",
   "language": "python",
   "name": "python3"
  },
  "language_info": {
   "codemirror_mode": {
    "name": "ipython",
    "version": 3
   },
   "file_extension": ".py",
   "mimetype": "text/x-python",
   "name": "python",
   "nbconvert_exporter": "python",
   "pygments_lexer": "ipython3",
   "version": "3.8.13"
  },
  "widgets": {
   "application/vnd.jupyter.widget-state+json": {
    "state": {},
    "version_major": 2,
    "version_minor": 0
   }
  }
 },
 "nbformat": 4,
 "nbformat_minor": 5
}
